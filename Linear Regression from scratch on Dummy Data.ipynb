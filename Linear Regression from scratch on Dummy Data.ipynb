{
 "cells": [
  {
   "cell_type": "code",
   "execution_count": 1,
   "id": "e1b86685",
   "metadata": {},
   "outputs": [],
   "source": [
    "import numpy as np "
   ]
  },
  {
   "cell_type": "code",
   "execution_count": 2,
   "id": "0658b654",
   "metadata": {},
   "outputs": [
    {
     "data": {
      "text/plain": [
       "(100, 2)"
      ]
     },
     "execution_count": 2,
     "metadata": {},
     "output_type": "execute_result"
    }
   ],
   "source": [
    "data = np.loadtxt('/Users/shivampruthi/Downloads/0000000000000836/data.csv', delimiter = ',')\n",
    "data.shape"
   ]
  },
  {
   "cell_type": "code",
   "execution_count": 4,
   "id": "e35d5bee",
   "metadata": {},
   "outputs": [
    {
     "data": {
      "text/plain": [
       "(100,)"
      ]
     },
     "execution_count": 4,
     "metadata": {},
     "output_type": "execute_result"
    }
   ],
   "source": [
    "# Distinguishing the data\n",
    "x = data[:, 0]\n",
    "y = data[:, 1]\n",
    "x.shape"
   ]
  },
  {
   "cell_type": "code",
   "execution_count": 5,
   "id": "87bca1c7",
   "metadata": {},
   "outputs": [
    {
     "data": {
      "text/plain": [
       "(70,)"
      ]
     },
     "execution_count": 5,
     "metadata": {},
     "output_type": "execute_result"
    }
   ],
   "source": [
    "from sklearn import model_selection\n",
    "x_train, x_test, y_train, y_test = model_selection.train_test_split(x, y, test_size = 0.3)\n",
    "x_train.shape"
   ]
  },
  {
   "cell_type": "code",
   "execution_count": 6,
   "id": "ee8b7877",
   "metadata": {},
   "outputs": [],
   "source": [
    "def fit(x_train, y_train):\n",
    "    \n",
    "    num = (x_train * y_train).mean() - x_train.mean() * y_train.mean()\n",
    "    den = (x_train ** 2).mean() - (x_train.mean()) ** 2\n",
    "    \n",
    "    m = num / den\n",
    "    c = y_train.mean() - m * x_train.mean()\n",
    "    \n",
    "    return m, c"
   ]
  },
  {
   "cell_type": "code",
   "execution_count": 11,
   "id": "8e3df875",
   "metadata": {},
   "outputs": [],
   "source": [
    "def predict(x, m , c):\n",
    "    \n",
    "    return m * x + c"
   ]
  },
  {
   "cell_type": "code",
   "execution_count": 12,
   "id": "f0739d12",
   "metadata": {},
   "outputs": [],
   "source": [
    "def score(y_truth, y_pred):\n",
    "    \n",
    "    u = ((y_truth - y_pred) ** 2).sum()\n",
    "    v = ((y_truth - y_truth.mean()) ** 2).sum()\n",
    "    \n",
    "    return 1 - u / v"
   ]
  },
  {
   "cell_type": "code",
   "execution_count": 13,
   "id": "981e10ec",
   "metadata": {},
   "outputs": [
    {
     "name": "stdout",
     "output_type": "stream",
     "text": [
      "The testing score is 0.6690041507518282\n",
      "The training score is 0.5795184231859197\n",
      "M 1.3871455953678826\n",
      "C 4.855738966786177\n"
     ]
    }
   ],
   "source": [
    "m, c = fit(x_train, y_train)\n",
    "\n",
    "# test data\n",
    "y_test_predict = predict(x_test, m, c)\n",
    "testing_score = score(y_test, y_test_predict)\n",
    "print(f\"The testing score is {testing_score}\")\n",
    "\n",
    "# training data\n",
    "y_train_predict = predict(x_train, m, c)\n",
    "training_score = score(y_train, y_train_predict)\n",
    "print(f\"The training score is {training_score}\")\n",
    "print(f\"M {m}\")\n",
    "print(f\"C {c}\")\n",
    "\n"
   ]
  },
  {
   "cell_type": "code",
   "execution_count": 16,
   "id": "44b117c9",
   "metadata": {},
   "outputs": [
    {
     "data": {
      "text/html": [
       "<style>#sk-container-id-1 {color: black;}#sk-container-id-1 pre{padding: 0;}#sk-container-id-1 div.sk-toggleable {background-color: white;}#sk-container-id-1 label.sk-toggleable__label {cursor: pointer;display: block;width: 100%;margin-bottom: 0;padding: 0.3em;box-sizing: border-box;text-align: center;}#sk-container-id-1 label.sk-toggleable__label-arrow:before {content: \"▸\";float: left;margin-right: 0.25em;color: #696969;}#sk-container-id-1 label.sk-toggleable__label-arrow:hover:before {color: black;}#sk-container-id-1 div.sk-estimator:hover label.sk-toggleable__label-arrow:before {color: black;}#sk-container-id-1 div.sk-toggleable__content {max-height: 0;max-width: 0;overflow: hidden;text-align: left;background-color: #f0f8ff;}#sk-container-id-1 div.sk-toggleable__content pre {margin: 0.2em;color: black;border-radius: 0.25em;background-color: #f0f8ff;}#sk-container-id-1 input.sk-toggleable__control:checked~div.sk-toggleable__content {max-height: 200px;max-width: 100%;overflow: auto;}#sk-container-id-1 input.sk-toggleable__control:checked~label.sk-toggleable__label-arrow:before {content: \"▾\";}#sk-container-id-1 div.sk-estimator input.sk-toggleable__control:checked~label.sk-toggleable__label {background-color: #d4ebff;}#sk-container-id-1 div.sk-label input.sk-toggleable__control:checked~label.sk-toggleable__label {background-color: #d4ebff;}#sk-container-id-1 input.sk-hidden--visually {border: 0;clip: rect(1px 1px 1px 1px);clip: rect(1px, 1px, 1px, 1px);height: 1px;margin: -1px;overflow: hidden;padding: 0;position: absolute;width: 1px;}#sk-container-id-1 div.sk-estimator {font-family: monospace;background-color: #f0f8ff;border: 1px dotted black;border-radius: 0.25em;box-sizing: border-box;margin-bottom: 0.5em;}#sk-container-id-1 div.sk-estimator:hover {background-color: #d4ebff;}#sk-container-id-1 div.sk-parallel-item::after {content: \"\";width: 100%;border-bottom: 1px solid gray;flex-grow: 1;}#sk-container-id-1 div.sk-label:hover label.sk-toggleable__label {background-color: #d4ebff;}#sk-container-id-1 div.sk-serial::before {content: \"\";position: absolute;border-left: 1px solid gray;box-sizing: border-box;top: 0;bottom: 0;left: 50%;z-index: 0;}#sk-container-id-1 div.sk-serial {display: flex;flex-direction: column;align-items: center;background-color: white;padding-right: 0.2em;padding-left: 0.2em;position: relative;}#sk-container-id-1 div.sk-item {position: relative;z-index: 1;}#sk-container-id-1 div.sk-parallel {display: flex;align-items: stretch;justify-content: center;background-color: white;position: relative;}#sk-container-id-1 div.sk-item::before, #sk-container-id-1 div.sk-parallel-item::before {content: \"\";position: absolute;border-left: 1px solid gray;box-sizing: border-box;top: 0;bottom: 0;left: 50%;z-index: -1;}#sk-container-id-1 div.sk-parallel-item {display: flex;flex-direction: column;z-index: 1;position: relative;background-color: white;}#sk-container-id-1 div.sk-parallel-item:first-child::after {align-self: flex-end;width: 50%;}#sk-container-id-1 div.sk-parallel-item:last-child::after {align-self: flex-start;width: 50%;}#sk-container-id-1 div.sk-parallel-item:only-child::after {width: 0;}#sk-container-id-1 div.sk-dashed-wrapped {border: 1px dashed gray;margin: 0 0.4em 0.5em 0.4em;box-sizing: border-box;padding-bottom: 0.4em;background-color: white;}#sk-container-id-1 div.sk-label label {font-family: monospace;font-weight: bold;display: inline-block;line-height: 1.2em;}#sk-container-id-1 div.sk-label-container {text-align: center;}#sk-container-id-1 div.sk-container {/* jupyter's `normalize.less` sets `[hidden] { display: none; }` but bootstrap.min.css set `[hidden] { display: none !important; }` so we also need the `!important` here to be able to override the default hidden behavior on the sphinx rendered scikit-learn.org. See: https://github.com/scikit-learn/scikit-learn/issues/21755 */display: inline-block !important;position: relative;}#sk-container-id-1 div.sk-text-repr-fallback {display: none;}</style><div id=\"sk-container-id-1\" class=\"sk-top-container\"><div class=\"sk-text-repr-fallback\"><pre>LinearRegression()</pre><b>In a Jupyter environment, please rerun this cell to show the HTML representation or trust the notebook. <br />On GitHub, the HTML representation is unable to render, please try loading this page with nbviewer.org.</b></div><div class=\"sk-container\" hidden><div class=\"sk-item\"><div class=\"sk-estimator sk-toggleable\"><input class=\"sk-toggleable__control sk-hidden--visually\" id=\"sk-estimator-id-1\" type=\"checkbox\" checked><label for=\"sk-estimator-id-1\" class=\"sk-toggleable__label sk-toggleable__label-arrow\">LinearRegression</label><div class=\"sk-toggleable__content\"><pre>LinearRegression()</pre></div></div></div></div></div>"
      ],
      "text/plain": [
       "LinearRegression()"
      ]
     },
     "execution_count": 16,
     "metadata": {},
     "output_type": "execute_result"
    }
   ],
   "source": [
    "# Now finiding the m, c, and score using inbuilt model \n",
    "from sklearn.linear_model import LinearRegression\n",
    "alg1 = LinearRegression()\n",
    "x_train_reshape = x_train.reshape(-1, 1)\n",
    "\n",
    "alg1.fit(x_train_reshape, y_train)"
   ]
  },
  {
   "cell_type": "code",
   "execution_count": 17,
   "id": "1c3e8bcc",
   "metadata": {},
   "outputs": [],
   "source": [
    "m_model = alg1.coef_"
   ]
  },
  {
   "cell_type": "code",
   "execution_count": 18,
   "id": "ed991947",
   "metadata": {},
   "outputs": [],
   "source": [
    "c_model = alg1.intercept_"
   ]
  },
  {
   "cell_type": "code",
   "execution_count": 20,
   "id": "190904f7",
   "metadata": {},
   "outputs": [],
   "source": [
    "x_test_reshape = x_test.reshape(-1, 1)\n",
    "test_score_model = alg1.score(x_test_reshape, y_test)"
   ]
  },
  {
   "cell_type": "code",
   "execution_count": 23,
   "id": "53a99a8d",
   "metadata": {},
   "outputs": [],
   "source": [
    "train_score_model = alg1.score(x_train_reshape, y_train)"
   ]
  },
  {
   "cell_type": "code",
   "execution_count": 24,
   "id": "60dd831b",
   "metadata": {},
   "outputs": [
    {
     "name": "stdout",
     "output_type": "stream",
     "text": [
      "The testing score of model is 0.6690041507518308\n",
      "The training score of model is 0.5795184231859198\n",
      "M of model is [1.3871456]\n",
      "C of model is 4.855738966786788\n"
     ]
    }
   ],
   "source": [
    "print(f\"The testing score of model is {test_score_model}\")\n",
    "print(f\"The training score of model is {train_score_model}\")\n",
    "print(f\"M of model is {m_model}\")\n",
    "print(f\"C of model is {c_model}\")"
   ]
  },
  {
   "cell_type": "code",
   "execution_count": 25,
   "id": "c6e65763",
   "metadata": {},
   "outputs": [],
   "source": [
    "# Now Finding the cost of our own model\n",
    "\n",
    "def cost(y, x, m, c):\n",
    "    \n",
    "    return ((y - m * x - c) ** 2).mean()"
   ]
  },
  {
   "cell_type": "code",
   "execution_count": 28,
   "id": "28e37e0a",
   "metadata": {},
   "outputs": [
    {
     "name": "stdout",
     "output_type": "stream",
     "text": [
      "The cost on training data is 132.63129221351363\n"
     ]
    }
   ],
   "source": [
    "cost_ = cost(y_train, x_train, m, c)\n",
    "print(f\"The cost on training data is {cost_}\")"
   ]
  }
 ],
 "metadata": {
  "kernelspec": {
   "display_name": "Python 3 (ipykernel)",
   "language": "python",
   "name": "python3"
  },
  "language_info": {
   "codemirror_mode": {
    "name": "ipython",
    "version": 3
   },
   "file_extension": ".py",
   "mimetype": "text/x-python",
   "name": "python",
   "nbconvert_exporter": "python",
   "pygments_lexer": "ipython3",
   "version": "3.11.4"
  }
 },
 "nbformat": 4,
 "nbformat_minor": 5
}
